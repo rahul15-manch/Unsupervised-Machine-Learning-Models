{
 "cells": [
  {
   "cell_type": "code",
   "execution_count": 1,
   "id": "d6c64257",
   "metadata": {},
   "outputs": [],
   "source": [
    "import plotly.express as px\n",
    "from sklearn.datasets import make_classification\n",
    "\n",
    "X,y=make_classification(\n",
    "    n_features=6,n_classes=3,n_informative=2,n_clusters_per_class=1,random_state=5, n_samples=1500)"
   ]
  },
  {
   "cell_type": "code",
   "execution_count": 2,
   "id": "c24bf9fc",
   "metadata": {},
   "outputs": [
    {
     "data": {
      "text/plain": [
       "True"
      ]
     },
     "execution_count": 2,
     "metadata": {},
     "output_type": "execute_result"
    }
   ],
   "source": [
    "fig=px.scatter_3d(x=X[:,0],y=X[:,1],z=X[:,2])\n",
    "fig.write_html(\"scatter3d.html\")\n",
    "import webbrowser\n",
    "webbrowser.open(\"scatter3d.html\")\n",
    "\n"
   ]
  },
  {
   "cell_type": "code",
   "execution_count": 6,
   "id": "4bf1e1cc",
   "metadata": {},
   "outputs": [
    {
     "data": {
      "text/plain": [
       "1.1275668144226074"
      ]
     },
     "execution_count": 6,
     "metadata": {},
     "output_type": "execute_result"
    }
   ],
   "source": [
    "from sklearn.manifold import TSNE\n",
    "import warnings\n",
    "warnings.filterwarnings(\"ignore\")\n",
    "tsne = TSNE(n_components=2, random_state=42)\n",
    "X_embedded = tsne.fit_transform(X)  \n",
    "tsne.kl_divergence_  # This will give you the KL divergence value"
   ]
  },
  {
   "cell_type": "code",
   "execution_count": 4,
   "id": "f8ff2757",
   "metadata": {},
   "outputs": [
    {
     "data": {
      "text/plain": [
       "True"
      ]
     },
     "execution_count": 4,
     "metadata": {},
     "output_type": "execute_result"
    }
   ],
   "source": [
    "fig= px.scatter(x=X_embedded[:,0], y=X_embedded[:,1], color=y)\n",
    "fig.update_layout(\n",
    "    \n",
    "        title=\"t-SNE Visualization\",\n",
    "        xaxis_title=\"Component 1\",\n",
    "        yaxis_title=\"Component 2\",\n",
    "        legend_title=\"Classes\"\n",
    "    \n",
    ")\n",
    "fig.write_html(\"scatter2d.html\")\n",
    "webbrowser.open(\"scatter2d.html\")   \n"
   ]
  },
  {
   "cell_type": "code",
   "execution_count": 7,
   "id": "b5f5939d",
   "metadata": {},
   "outputs": [
    {
     "data": {
      "text/plain": [
       "True"
      ]
     },
     "execution_count": 7,
     "metadata": {},
     "output_type": "execute_result"
    }
   ],
   "source": [
    "import numpy as np \n",
    "\n",
    "perplexity = np.arange(50,1000,50)\n",
    "divergence=[]\n",
    "for i in perplexity:\n",
    "    model=TSNE(n_components=2, perplexity=i, random_state=42,init=\"pca\")\n",
    "    reduced= model.fit_transform(X)\n",
    "    divergence.append(model.kl_divergence_)\n",
    "fig=px.line(x=perplexity, y=divergence,markers=True)\n",
    "fig.update_layout(\n",
    "    title=\"KL Divergence vs Perplexity\",\n",
    "    xaxis_title=\"Perplexity\",\n",
    "    yaxis_title=\"KL Divergence\",\n",
    "    legend_title=\"Classes\"\n",
    ")\n",
    "fig.write_html(\"perplexity.html\")\n",
    "webbrowser.open(\"perplexity.html\")"
   ]
  },
  {
   "cell_type": "code",
   "execution_count": null,
   "id": "41583b28",
   "metadata": {},
   "outputs": [],
   "source": []
  },
  {
   "cell_type": "code",
   "execution_count": null,
   "id": "0dc98162",
   "metadata": {},
   "outputs": [],
   "source": []
  },
  {
   "cell_type": "code",
   "execution_count": null,
   "id": "b3495fd9",
   "metadata": {},
   "outputs": [],
   "source": []
  }
 ],
 "metadata": {
  "kernelspec": {
   "display_name": "Python 3",
   "language": "python",
   "name": "python3"
  },
  "language_info": {
   "codemirror_mode": {
    "name": "ipython",
    "version": 3
   },
   "file_extension": ".py",
   "mimetype": "text/x-python",
   "name": "python",
   "nbconvert_exporter": "python",
   "pygments_lexer": "ipython3",
   "version": "3.11.0"
  }
 },
 "nbformat": 4,
 "nbformat_minor": 5
}
